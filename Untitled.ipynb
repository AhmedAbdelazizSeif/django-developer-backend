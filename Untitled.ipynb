{
 "cells": [
  {
   "cell_type": "code",
   "execution_count": 1,
   "id": "1d56d712-56da-49a9-93f0-8f26fec36f9d",
   "metadata": {},
   "outputs": [],
   "source": [
    "import os"
   ]
  },
  {
   "cell_type": "code",
   "execution_count": 13,
   "id": "225d1cd0-a22f-4f52-b6fd-9508519e8efe",
   "metadata": {},
   "outputs": [],
   "source": [
    "all_files = os.listdir()"
   ]
  },
  {
   "cell_type": "code",
   "execution_count": 16,
   "id": "31c39032-5da9-4158-8258-d4dc0f716c5f",
   "metadata": {},
   "outputs": [],
   "source": [
    "all_files.remove('Untitled.ipynb')"
   ]
  },
  {
   "cell_type": "code",
   "execution_count": 17,
   "id": "cbf5c6ed-69b7-4dd6-8fa1-32095fa030ee",
   "metadata": {},
   "outputs": [
    {
     "data": {
      "text/plain": [
       "['pages',\n",
       " 'index.css',\n",
       " 'App.jsx',\n",
       " 'styles',\n",
       " '.ipynb_checkpoints',\n",
       " 'App.css',\n",
       " 'assets',\n",
       " 'components',\n",
       " 'main.jsx']"
      ]
     },
     "execution_count": 17,
     "metadata": {},
     "output_type": "execute_result"
    }
   ],
   "source": [
    "all_files"
   ]
  },
  {
   "cell_type": "code",
   "execution_count": 4,
   "id": "221f5a29-f216-49cf-a749-ce7bf50fd7f7",
   "metadata": {},
   "outputs": [
    {
     "name": "stdout",
     "output_type": "stream",
     "text": [
      "Error reading file ./api/__pycache__/views.cpython-312.pyc: 'utf-8' codec can't decode byte 0xcb in position 0: invalid continuation byte\n",
      "Error reading file ./api/__pycache__/models.cpython-312.pyc: 'utf-8' codec can't decode byte 0xcb in position 0: invalid continuation byte\n",
      "Error reading file ./api/__pycache__/urls.cpython-312.pyc: 'utf-8' codec can't decode byte 0xcb in position 0: invalid continuation byte\n",
      "Error reading file ./api/__pycache__/admin.cpython-312.pyc: 'utf-8' codec can't decode byte 0xcb in position 0: invalid continuation byte\n",
      "Error reading file ./api/__pycache__/apps.cpython-312.pyc: 'utf-8' codec can't decode byte 0xcb in position 0: invalid continuation byte\n",
      "Error reading file ./api/__pycache__/__init__.cpython-312.pyc: 'utf-8' codec can't decode byte 0xcb in position 0: invalid continuation byte\n",
      "Error reading file ./api/migrations/__pycache__/__init__.cpython-312.pyc: 'utf-8' codec can't decode byte 0xcb in position 0: invalid continuation byte\n",
      "Error reading file ./frontend/src/public/dracula.png: 'utf-8' codec can't decode byte 0x89 in position 0: invalid start byte\n",
      "Error reading file ./frontend/src/public/favicon.ico: 'utf-8' codec can't decode byte 0x9e in position 34: invalid start byte\n",
      "Error reading file ./frontend/src/public/ayu.png: 'utf-8' codec can't decode byte 0x89 in position 0: invalid start byte\n",
      "Error reading file ./frontend/src/public/github-dark.png: 'utf-8' codec can't decode byte 0x89 in position 0: invalid start byte\n",
      "Error reading file ./frontend/src/public/nord.png: 'utf-8' codec can't decode byte 0x89 in position 0: invalid start byte\n",
      "Error reading file ./frontend/src/public/night-owl.png: 'utf-8' codec can't decode byte 0x89 in position 0: invalid start byte\n",
      "Error reading file ./public/dracula.png: 'utf-8' codec can't decode byte 0x89 in position 0: invalid start byte\n",
      "Error reading file ./public/favicon.ico: 'utf-8' codec can't decode byte 0x9e in position 34: invalid start byte\n",
      "Error reading file ./public/ayu.png: 'utf-8' codec can't decode byte 0x89 in position 0: invalid start byte\n",
      "Error reading file ./public/github-dark.png: 'utf-8' codec can't decode byte 0x89 in position 0: invalid start byte\n",
      "Error reading file ./public/nord.png: 'utf-8' codec can't decode byte 0x89 in position 0: invalid start byte\n",
      "Error reading file ./public/night-owl.png: 'utf-8' codec can't decode byte 0x89 in position 0: invalid start byte\n",
      "Error reading file ./backend/__pycache__/settings.cpython-312.pyc: 'utf-8' codec can't decode byte 0xcb in position 0: invalid continuation byte\n",
      "Error reading file ./backend/__pycache__/urls.cpython-312.pyc: 'utf-8' codec can't decode byte 0xcb in position 0: invalid continuation byte\n",
      "Error reading file ./backend/__pycache__/wsgi.cpython-312.pyc: 'utf-8' codec can't decode byte 0xcb in position 0: invalid continuation byte\n",
      "Error reading file ./backend/__pycache__/__init__.cpython-312.pyc: 'utf-8' codec can't decode byte 0xcb in position 0: invalid continuation byte\n"
     ]
    }
   ],
   "source": [
    "import os\n",
    "\n",
    "# Specify the top directory and the output file\n",
    "output_file = \"merged_files_content.txt\"\n",
    "exclude_dirs = {\"node_modules\", \"portenv\", '.ipynb_checkpoints'}  # Directories to exclude\n",
    "exclude_files = {'Untitled.ipynb'}\n",
    "\n",
    "def merge_files_content(top=\".\", output_file=\"merged_files_content.txt\"):\n",
    "    with open(output_file, \"w\", encoding=\"utf-8\") as outfile:\n",
    "        for root, dirs, files in os.walk(top):\n",
    "            # Remove excluded directories from the traversal\n",
    "            dirs[:] = [d for d in dirs if d not in exclude_dirs]\n",
    "            files[:] = [f for f in files if f not in exclude_files]\n",
    "            for file in files:\n",
    "                file_path = os.path.join(root, file)\n",
    "                # Check if the file_path is a file\n",
    "                if os.path.isfile(file_path):\n",
    "                    try:\n",
    "                        with open(file_path, \"r\", encoding=\"utf-8\") as infile:\n",
    "                            outfile.write(f\"# File: {file_path}\\n\")  # Write the full file path\n",
    "                            if file_path.endswith(\".svg\"):\n",
    "                                outfile.write(\"SVG FILE CONTENT\")\n",
    "                                continue\n",
    "                            outfile.write(infile.read())  # Write the file content\n",
    "                            outfile.write(\"\\n\\n\")  # Separate files with two new lines\n",
    "                    except Exception as e:\n",
    "                        print(f\"Error reading file {file_path}: {e}\")\n",
    "\n",
    "if __name__ == \"__main__\":\n",
    "    merge_files_content()\n"
   ]
  },
  {
   "cell_type": "code",
   "execution_count": null,
   "id": "b6736560-e913-4a0f-bc56-f00c9e4ded58",
   "metadata": {},
   "outputs": [],
   "source": []
  }
 ],
 "metadata": {
  "kernelspec": {
   "display_name": "Python 3 (ipykernel)",
   "language": "python",
   "name": "python3"
  },
  "language_info": {
   "codemirror_mode": {
    "name": "ipython",
    "version": 3
   },
   "file_extension": ".py",
   "mimetype": "text/x-python",
   "name": "python",
   "nbconvert_exporter": "python",
   "pygments_lexer": "ipython3",
   "version": "3.12.4"
  }
 },
 "nbformat": 4,
 "nbformat_minor": 5
}
